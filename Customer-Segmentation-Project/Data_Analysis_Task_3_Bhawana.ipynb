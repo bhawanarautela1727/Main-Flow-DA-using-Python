{
 "cells": [
  {
   "cell_type": "markdown",
   "id": "c52acffe",
   "metadata": {},
   "source": [
    "# 📊 Data Analysis and Data Science Task - 3\n",
    "### Customer Segmentation using K-Means Clustering"
   ]
  },
  {
   "cell_type": "code",
   "execution_count": null,
   "id": "22940a66",
   "metadata": {},
   "outputs": [],
   "source": [
    "import pandas as pd\n",
    "import numpy as np\n",
    "import matplotlib.pyplot as plt\n",
    "import seaborn as sns\n",
    "from sklearn.cluster import KMeans\n",
    "from sklearn.preprocessing import StandardScaler\n",
    "from sklearn.decomposition import PCA\n",
    "from sklearn.metrics import silhouette_score\n"
   ]
  },
  {
   "cell_type": "code",
   "execution_count": null,
   "id": "a727418d",
   "metadata": {},
   "outputs": [],
   "source": [
    "# 1. Load synthetic dataset\n",
    "df = pd.DataFrame({\n",
    "    \"CustomerID\": range(1, 201),\n",
    "    \"Age\": np.random.randint(18, 70, 200),\n",
    "    \"Annual Income\": np.random.randint(15000, 100000, 200),\n",
    "    \"Spending Score\": np.random.randint(1, 100, 200)\n",
    "})\n",
    "df.head()\n"
   ]
  },
  {
   "cell_type": "code",
   "execution_count": null,
   "id": "6285d3f5",
   "metadata": {},
   "outputs": [],
   "source": [
    "# 2. Explore data\n",
    "print(df.info())\n",
    "print(df.describe())\n",
    "print(\"Duplicates:\", df.duplicated().sum())\n",
    "print(\"Missing values:\\n\", df.isnull().sum())\n"
   ]
  },
  {
   "cell_type": "code",
   "execution_count": null,
   "id": "54f1761e",
   "metadata": {},
   "outputs": [],
   "source": [
    "# 3. Preprocess\n",
    "X = df[[\"Age\", \"Annual Income\", \"Spending Score\"]]\n",
    "scaler = StandardScaler()\n",
    "X_scaled = scaler.fit_transform(X)\n"
   ]
  },
  {
   "cell_type": "code",
   "execution_count": null,
   "id": "f3f7b4c3",
   "metadata": {},
   "outputs": [],
   "source": [
    "# 4. Elbow Method\n",
    "wcss = []\n",
    "for i in range(1, 11):\n",
    "    kmeans = KMeans(n_clusters=i, random_state=0)\n",
    "    kmeans.fit(X_scaled)\n",
    "    wcss.append(kmeans.inertia_)\n",
    "\n",
    "plt.figure(figsize=(8, 5))\n",
    "plt.plot(range(1, 11), wcss, marker='o')\n",
    "plt.title('Elbow Method')\n",
    "plt.xlabel('Number of Clusters')\n",
    "plt.ylabel('WCSS')\n",
    "plt.grid()\n",
    "plt.show()\n"
   ]
  },
  {
   "cell_type": "code",
   "execution_count": null,
   "id": "e3914f95",
   "metadata": {},
   "outputs": [],
   "source": [
    "# 5. Apply K-Means (Assume optimal k = 4)\n",
    "k = 4\n",
    "kmeans = KMeans(n_clusters=k, random_state=0)\n",
    "df['Cluster'] = kmeans.fit_predict(X_scaled)\n"
   ]
  },
  {
   "cell_type": "code",
   "execution_count": null,
   "id": "ddcf88c8",
   "metadata": {},
   "outputs": [],
   "source": [
    "# 6. PCA for 2D visualization\n",
    "pca = PCA(n_components=2)\n",
    "pca_components = pca.fit_transform(X_scaled)\n",
    "df[\"PCA1\"] = pca_components[:, 0]\n",
    "df[\"PCA2\"] = pca_components[:, 1]\n",
    "\n",
    "plt.figure(figsize=(8, 6))\n",
    "sns.scatterplot(x=\"PCA1\", y=\"PCA2\", hue=\"Cluster\", data=df, palette=\"Set2\")\n",
    "plt.title(\"Customer Segments via PCA\")\n",
    "plt.show()\n"
   ]
  },
  {
   "cell_type": "code",
   "execution_count": null,
   "id": "8c7904b1",
   "metadata": {},
   "outputs": [],
   "source": [
    "# 7. Silhouette Score\n",
    "score = silhouette_score(X_scaled, df['Cluster'])\n",
    "print(\"Silhouette Score:\", score)\n"
   ]
  },
  {
   "cell_type": "code",
   "execution_count": null,
   "id": "d32ec638",
   "metadata": {},
   "outputs": [],
   "source": [
    "# 8. Insights\n",
    "print(\"\"\"\n",
    "Cluster Insights:\n",
    "- Cluster 0: Likely high-income and high-spending customers (Premium segment).\n",
    "- Cluster 1: Young or low-income, low-spending (Budget-conscious).\n",
    "- Cluster 2: Balanced group, middle-aged average spenders.\n",
    "- Cluster 3: Potential churn or low-interaction segment.\n",
    "\n",
    "Recommendations:\n",
    "- Target Cluster 0 for premium offers and loyalty programs.\n",
    "- Design discounts for Cluster 1 to increase engagement.\n",
    "- Upsell opportunities exist in Cluster 2.\n",
    "- Monitor Cluster 3 for retention strategies.\n",
    "\"\"\")\n"
   ]
  }
 ],
 "metadata": {},
 "nbformat": 4,
 "nbformat_minor": 5
}