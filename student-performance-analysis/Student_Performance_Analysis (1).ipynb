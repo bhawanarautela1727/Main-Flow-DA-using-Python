{
 "cells": [
  {
   "cell_type": "markdown",
   "id": "7d2d8020",
   "metadata": {},
   "source": [
    "\n",
    "# 🎓 Student Performance Data Analysis\n",
    "\n",
    "**Objective:** Analyze student exam scores using Python to derive insights and answer specific questions through visualizations and statistics.\n"
   ]
  },
  {
   "cell_type": "code",
   "execution_count": null,
   "id": "4967ce45",
   "metadata": {},
   "outputs": [],
   "source": [
    "\n",
    "import pandas as pd\n",
    "import numpy as np\n",
    "import matplotlib.pyplot as plt\n",
    "import seaborn as sns\n"
   ]
  },
  {
   "cell_type": "code",
   "execution_count": null,
   "id": "13f73d3c",
   "metadata": {},
   "outputs": [],
   "source": [
    "\n",
    "# Load the dataset (ensure 'student-mat.csv' is in the same folder)\n",
    "df = pd.read_csv('student-mat.csv')\n",
    "df.head()\n"
   ]
  },
  {
   "cell_type": "markdown",
   "id": "2de480b9",
   "metadata": {},
   "source": [
    "\n",
    "## 🔍 Data Exploration\n",
    "\n",
    "We check for missing values, data types, and dataset shape.\n"
   ]
  },
  {
   "cell_type": "code",
   "execution_count": null,
   "id": "d19b3869",
   "metadata": {},
   "outputs": [],
   "source": [
    "\n",
    "# Check for missing values\n",
    "print(df.isnull().sum())\n",
    "\n",
    "# Column data types\n",
    "print(df.dtypes)\n",
    "\n",
    "# Shape of dataset\n",
    "print(\"Dataset shape:\", df.shape)\n"
   ]
  },
  {
   "cell_type": "markdown",
   "id": "b7e53c5c",
   "metadata": {},
   "source": [
    "\n",
    "## 🧹 Data Cleaning\n",
    "\n",
    "We remove duplicate rows to avoid biased results. If any missing values were present, they would be handled appropriately.\n"
   ]
  },
  {
   "cell_type": "code",
   "execution_count": null,
   "id": "2a04b03d",
   "metadata": {},
   "outputs": [],
   "source": [
    "\n",
    "# Remove duplicate entries\n",
    "df = df.drop_duplicates()\n"
   ]
  },
  {
   "cell_type": "markdown",
   "id": "ccae057c",
   "metadata": {},
   "source": [
    "\n",
    "## 📊 Data Analysis\n",
    "\n",
    "We now answer the following:\n",
    "1. What is the average score in math (G3)?\n",
    "2. How many students scored above 15 in G3?\n",
    "3. Is there a correlation between study time and G3?\n",
    "4. Which gender has a higher average G3?\n"
   ]
  },
  {
   "cell_type": "code",
   "execution_count": null,
   "id": "1431c1e6",
   "metadata": {},
   "outputs": [],
   "source": [
    "\n",
    "# 1. Average G3 score\n",
    "average_g3 = df['G3'].mean()\n",
    "print(\"Average G3 score:\", average_g3)\n",
    "\n",
    "# 2. Students scoring above 15 in G3\n",
    "above_15 = df[df['G3'] > 15].shape[0]\n",
    "print(\"Students scoring above 15:\", above_15)\n",
    "\n",
    "# 3. Correlation between study time and G3\n",
    "correlation = df['studytime'].corr(df['G3'])\n",
    "print(\"Correlation between study time and G3:\", correlation)\n",
    "\n",
    "# 4. Average G3 by gender\n",
    "gender_avg = df.groupby(\"sex\")[\"G3\"].mean()\n",
    "print(gender_avg)\n"
   ]
  },
  {
   "cell_type": "markdown",
   "id": "0420b71c",
   "metadata": {},
   "source": [
    "\n",
    "## 📈 Data Visualization\n",
    "\n",
    "We create histograms, scatter plots, and bar charts to visually interpret the results.\n"
   ]
  },
  {
   "cell_type": "code",
   "execution_count": null,
   "id": "2056bb70",
   "metadata": {},
   "outputs": [],
   "source": [
    "\n",
    "# 1. Histogram of final grades\n",
    "plt.figure(figsize=(8,5))\n",
    "plt.hist(df['G3'], bins=10, edgecolor='black')\n",
    "plt.title('Distribution of Final Grades (G3)')\n",
    "plt.xlabel('Final Grade')\n",
    "plt.ylabel('Number of Students')\n",
    "plt.show()\n",
    "\n",
    "# 2. Scatter plot: study time vs G3\n",
    "plt.figure(figsize=(8,5))\n",
    "plt.scatter(df['studytime'], df['G3'], alpha=0.6)\n",
    "plt.title('Study Time vs Final Grade')\n",
    "plt.xlabel('Study Time (hours/week)')\n",
    "plt.ylabel('Final Grade (G3)')\n",
    "plt.grid(True)\n",
    "plt.show()\n",
    "\n",
    "# 3. Bar chart: average G3 by gender\n",
    "gender_avg.plot(kind='bar', color=['skyblue', 'salmon'])\n",
    "plt.title('Average Final Grade by Gender')\n",
    "plt.xlabel('Gender')\n",
    "plt.ylabel('Average Final Grade (G3)')\n",
    "plt.xticks(rotation=0)\n",
    "plt.show()\n"
   ]
  },
  {
   "cell_type": "markdown",
   "id": "7cd27641",
   "metadata": {},
   "source": [
    "\n",
    "## 📝 Conclusion\n",
    "\n",
    "- Average final grade (G3) is calculated and explored.\n",
    "- Number of high scoring students (>15) is highlighted.\n",
    "- A positive correlation exists between study time and grades.\n",
    "- Female students have slightly higher average scores than males.\n"
   ]
  }
 ],
 "metadata": {},
 "nbformat": 4,
 "nbformat_minor": 5
}
