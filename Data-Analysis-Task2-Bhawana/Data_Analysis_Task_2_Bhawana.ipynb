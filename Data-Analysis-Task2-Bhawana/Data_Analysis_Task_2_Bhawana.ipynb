{
 "cells": [
  {
   "cell_type": "markdown",
   "id": "4d25ebc4",
   "metadata": {},
   "source": [
    "# 📊 Data Analysis and Data Science Task - 2\n",
    "By: Bhawana Rautela"
   ]
  },
  {
   "cell_type": "code",
   "execution_count": null,
   "id": "0dad84f4",
   "metadata": {},
   "outputs": [],
   "source": [
    "import pandas as pd\n",
    "import numpy as np\n",
    "import matplotlib.pyplot as plt\n",
    "import seaborn as sns\n",
    "from sklearn.linear_model import LinearRegression\n",
    "from sklearn.metrics import r2_score, mean_squared_error\n",
    "import warnings\n",
    "warnings.filterwarnings(\"ignore\")\n"
   ]
  },
  {
   "cell_type": "markdown",
   "id": "ceaaa02d",
   "metadata": {},
   "source": [
    "## 🔍 Project 1: General EDA"
   ]
  },
  {
   "cell_type": "code",
   "execution_count": null,
   "id": "2d59aea7",
   "metadata": {},
   "outputs": [],
   "source": [
    "# Load dataset\n",
    "df = pd.read_csv(\"general_eda_data.csv\")\n",
    "df.head()\n"
   ]
  },
  {
   "cell_type": "markdown",
   "id": "6105a015",
   "metadata": {},
   "source": [
    "### 🧹 Data Cleaning"
   ]
  },
  {
   "cell_type": "code",
   "execution_count": null,
   "id": "13251745",
   "metadata": {},
   "outputs": [],
   "source": [
    "# Check for missing values\n",
    "print(\"Missing values:\\n\", df.isnull().sum())\n",
    "\n",
    "# Fill missing values\n",
    "df[\"Sales\"].fillna(df[\"Sales\"].mean(), inplace=True)\n",
    "df[\"Profit\"].fillna(df[\"Profit\"].median(), inplace=True)\n",
    "\n",
    "# Remove duplicates\n",
    "df.drop_duplicates(inplace=True)\n",
    "\n",
    "# Handle outliers using IQR\n",
    "Q1 = df[\"Sales\"].quantile(0.25)\n",
    "Q3 = df[\"Sales\"].quantile(0.75)\n",
    "IQR = Q3 - Q1\n",
    "df = df[(df[\"Sales\"] >= Q1 - 1.5*IQR) & (df[\"Sales\"] <= Q3 + 1.5*IQR)]\n",
    "\n",
    "# Same for Profit\n",
    "Q1 = df[\"Profit\"].quantile(0.25)\n",
    "Q3 = df[\"Profit\"].quantile(0.75)\n",
    "IQR = Q3 - Q1\n",
    "df = df[(df[\"Profit\"] >= Q1 - 1.5*IQR) & (df[\"Profit\"] <= Q3 + 1.5*IQR)]\n"
   ]
  },
  {
   "cell_type": "markdown",
   "id": "d54807be",
   "metadata": {},
   "source": [
    "### 📈 Statistical Summary"
   ]
  },
  {
   "cell_type": "code",
   "execution_count": null,
   "id": "8f0f5c13",
   "metadata": {},
   "outputs": [],
   "source": [
    "# Summary statistics\n",
    "print(df.describe())\n",
    "\n",
    "# Correlation heatmap\n",
    "plt.figure(figsize=(6, 4))\n",
    "sns.heatmap(df.corr(), annot=True, cmap='coolwarm')\n",
    "plt.title(\"Correlation Heatmap\")\n",
    "plt.show()\n"
   ]
  },
  {
   "cell_type": "markdown",
   "id": "efe3fc07",
   "metadata": {},
   "source": [
    "### 📊 Visualizations"
   ]
  },
  {
   "cell_type": "code",
   "execution_count": null,
   "id": "89e91c97",
   "metadata": {},
   "outputs": [],
   "source": [
    "# Histogram\n",
    "df[\"Sales\"].hist(bins=20, edgecolor='black')\n",
    "plt.title(\"Sales Distribution\")\n",
    "plt.xlabel(\"Sales\")\n",
    "plt.ylabel(\"Frequency\")\n",
    "plt.show()\n",
    "\n",
    "# Boxplot\n",
    "sns.boxplot(x=\"Category\", y=\"Profit\", data=df)\n",
    "plt.title(\"Profit Distribution by Category\")\n",
    "plt.show()\n"
   ]
  },
  {
   "cell_type": "markdown",
   "id": "3e3bd6ca",
   "metadata": {},
   "source": [
    "## 📈 Project 2: Sales Performance Analysis"
   ]
  },
  {
   "cell_type": "code",
   "execution_count": null,
   "id": "0f45a4ed",
   "metadata": {},
   "outputs": [],
   "source": [
    "# Load dataset\n",
    "sales_df = pd.read_csv(\"sales_data.csv\")\n",
    "sales_df[\"Date\"] = pd.to_datetime(sales_df[\"Date\"])\n",
    "sales_df.head()\n"
   ]
  },
  {
   "cell_type": "markdown",
   "id": "fe416edd",
   "metadata": {},
   "source": [
    "### 📊 Visualizations"
   ]
  },
  {
   "cell_type": "code",
   "execution_count": null,
   "id": "ea0f39fd",
   "metadata": {},
   "outputs": [],
   "source": [
    "# Time Series\n",
    "plt.plot(sales_df[\"Date\"], sales_df[\"Sales\"], marker='o')\n",
    "plt.title(\"Sales Over Time\")\n",
    "plt.xlabel(\"Date\")\n",
    "plt.ylabel(\"Sales\")\n",
    "plt.grid()\n",
    "plt.show()\n",
    "\n",
    "# Profit vs Discount\n",
    "sns.scatterplot(x=\"Discount\", y=\"Profit\", data=sales_df)\n",
    "plt.title(\"Profit vs Discount\")\n",
    "plt.show()\n",
    "\n",
    "# Sales by Region\n",
    "sales_df.groupby(\"Region\")[\"Sales\"].sum().plot(kind=\"bar\", color=\"skyblue\")\n",
    "plt.title(\"Sales by Region\")\n",
    "plt.ylabel(\"Total Sales\")\n",
    "plt.show()\n"
   ]
  },
  {
   "cell_type": "markdown",
   "id": "51784abc",
   "metadata": {},
   "source": [
    "### 🤖 Predictive Modeling"
   ]
  },
  {
   "cell_type": "code",
   "execution_count": null,
   "id": "c025086f",
   "metadata": {},
   "outputs": [],
   "source": [
    "# Train Linear Regression Model\n",
    "X = sales_df[[\"Profit\", \"Discount\"]]\n",
    "y = sales_df[\"Sales\"]\n",
    "model = LinearRegression()\n",
    "model.fit(X, y)\n",
    "predictions = model.predict(X)\n",
    "\n",
    "# Evaluation\n",
    "print(\"R² Score:\", r2_score(y, predictions))\n",
    "print(\"Mean Squared Error:\", mean_squared_error(y, predictions))\n"
   ]
  },
  {
   "cell_type": "markdown",
   "id": "3c492905",
   "metadata": {},
   "source": [
    "## ✅ Final Insights and Recommendations"
   ]
  },
  {
   "cell_type": "markdown",
   "id": "c8386d8d",
   "metadata": {},
   "source": [
    "- Sales trend is increasing over time.\n",
    "- Discount has a slight negative correlation with profit.\n",
    "- North and West regions show higher overall sales.\n",
    "- Categories like Technology and Furniture perform well.\n",
    "- The regression model shows a strong relationship between Profit, Discount, and Sales.\n"
   ]
  }
 ],
 "metadata": {},
 "nbformat": 4,
 "nbformat_minor": 5
}